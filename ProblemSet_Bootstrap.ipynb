{
 "cells": [
  {
   "cell_type": "markdown",
   "metadata": {},
   "source": [
    "Problem Set 4: Group 8 "
   ]
  },
  {
   "cell_type": "markdown",
   "metadata": {},
   "source": [
    "# Excercise 1 "
   ]
  },
  {
   "cell_type": "markdown",
   "metadata": {},
   "source": [
    "### Aim:  \n",
    "Compare the coverage probabilities of analytical and bootstrapped confidence intervals"
   ]
  },
  {
   "cell_type": "markdown",
   "metadata": {},
   "source": [
    "###### Motivation: \n",
    "\n",
    "The traditional approach for statistical inference relies on drawing one sample of size n from the population and use that sample to calculate population estimates.\n",
    "\n",
    "With bootstrap we resample from the original sample (under the assumption it is representative of the population) to get an idea \n",
    "for the range of values our estimate can take. From the estimated distribution we can calculate standard errors and construct confidence intervals for a variety of estimators"
   ]
  },
  {
   "cell_type": "markdown",
   "metadata": {},
   "source": [
    "#### Data Generating Process\n",
    "- $y_i = ß_1 + ß_2x_i +ß_3x^2_i + ß_4x^3_i+ ß_5x^4_i + e$\n",
    "where\n",
    "\n",
    "- $X \\sim N(0,1) $\n",
    "- $e \\sim N(0,1) $\n",
    "- $ß = (1 , 1.5 , -1.5 , 1.5 ,  0.5) $\n",
    "- $n = 200$\n"
   ]
  },
  {
   "cell_type": "code",
   "execution_count": 16,
   "metadata": {
    "vscode": {
     "languageId": "r"
    }
   },
   "outputs": [
    {
     "name": "stderr",
     "output_type": "stream",
     "text": [
      "Warning message:\n",
      "\"package 'ggplot2' was built under R version 4.0.5\"\n"
     ]
    }
   ],
   "source": [
    "rm(list=ls())\n",
    "library(boot)\n",
    "library(ggplot2)\n",
    "\n",
    "set.seed(8)\n",
    "beta = c(1,1.5,-1.5,1.5,0.5)\n",
    "n=200\n",
    "\n",
    "\n",
    "DGP <- function(n, beta){\n",
    "    X <-rnorm(n,sd=1)\n",
    "  XX <- cbind( rep(1,n),X,X^2,X^3,X^4)\n",
    "  \n",
    "  error <- rnorm(n,sd=1) # error terms\n",
    "  Y <- XX%*%beta+error\n",
    "  data <- data.frame(\"Y\"=Y,\"int\"=XX[,1],\"X\"=XX[,2],\"X.2\"=XX[,3],\"X.3\"=XX[,4],\"X.4\"=XX[,5]) # bring everything into a dataframe \n",
    "  return(data)\n",
    "}"
   ]
  },
  {
   "cell_type": "code",
   "execution_count": 17,
   "metadata": {
    "vscode": {
     "languageId": "r"
    }
   },
   "outputs": [
    {
     "data": {
      "text/html": [
       "<table class=\"dataframe\">\n",
       "<caption>A data.frame: 3 × 6</caption>\n",
       "<thead>\n",
       "\t<tr><th></th><th scope=col>Y</th><th scope=col>int</th><th scope=col>X</th><th scope=col>X.2</th><th scope=col>X.3</th><th scope=col>X.4</th></tr>\n",
       "\t<tr><th></th><th scope=col>&lt;dbl&gt;</th><th scope=col>&lt;dbl&gt;</th><th scope=col>&lt;dbl&gt;</th><th scope=col>&lt;dbl&gt;</th><th scope=col>&lt;dbl&gt;</th><th scope=col>&lt;dbl&gt;</th></tr>\n",
       "</thead>\n",
       "<tbody>\n",
       "\t<tr><th scope=row>1</th><td>0.2800181</td><td>1</td><td>-0.08458607</td><td>0.007154803</td><td>-0.0006051967</td><td>5.119121e-05</td></tr>\n",
       "\t<tr><th scope=row>2</th><td>2.1167774</td><td>1</td><td> 0.84040013</td><td>0.706272371</td><td> 0.5935513894</td><td>4.988207e-01</td></tr>\n",
       "\t<tr><th scope=row>3</th><td>1.0547132</td><td>1</td><td>-0.46348277</td><td>0.214816280</td><td>-0.0995636450</td><td>4.614603e-02</td></tr>\n",
       "</tbody>\n",
       "</table>\n"
      ],
      "text/latex": [
       "A data.frame: 3 × 6\n",
       "\\begin{tabular}{r|llllll}\n",
       "  & Y & int & X & X.2 & X.3 & X.4\\\\\n",
       "  & <dbl> & <dbl> & <dbl> & <dbl> & <dbl> & <dbl>\\\\\n",
       "\\hline\n",
       "\t1 & 0.2800181 & 1 & -0.08458607 & 0.007154803 & -0.0006051967 & 5.119121e-05\\\\\n",
       "\t2 & 2.1167774 & 1 &  0.84040013 & 0.706272371 &  0.5935513894 & 4.988207e-01\\\\\n",
       "\t3 & 1.0547132 & 1 & -0.46348277 & 0.214816280 & -0.0995636450 & 4.614603e-02\\\\\n",
       "\\end{tabular}\n"
      ],
      "text/markdown": [
       "\n",
       "A data.frame: 3 × 6\n",
       "\n",
       "| <!--/--> | Y &lt;dbl&gt; | int &lt;dbl&gt; | X &lt;dbl&gt; | X.2 &lt;dbl&gt; | X.3 &lt;dbl&gt; | X.4 &lt;dbl&gt; |\n",
       "|---|---|---|---|---|---|---|\n",
       "| 1 | 0.2800181 | 1 | -0.08458607 | 0.007154803 | -0.0006051967 | 5.119121e-05 |\n",
       "| 2 | 2.1167774 | 1 |  0.84040013 | 0.706272371 |  0.5935513894 | 4.988207e-01 |\n",
       "| 3 | 1.0547132 | 1 | -0.46348277 | 0.214816280 | -0.0995636450 | 4.614603e-02 |\n",
       "\n"
      ],
      "text/plain": [
       "  Y         int X           X.2         X.3           X.4         \n",
       "1 0.2800181 1   -0.08458607 0.007154803 -0.0006051967 5.119121e-05\n",
       "2 2.1167774 1    0.84040013 0.706272371  0.5935513894 4.988207e-01\n",
       "3 1.0547132 1   -0.46348277 0.214816280 -0.0995636450 4.614603e-02"
      ]
     },
     "metadata": {},
     "output_type": "display_data"
    },
    {
     "data": {
      "text/plain": [
       "\n",
       "Call:\n",
       "lm(formula = Y ~ poly(X, 4, raw = TRUE), data = sample_data)\n",
       "\n",
       "Residuals:\n",
       "     Min       1Q   Median       3Q      Max \n",
       "-2.47246 -0.63396  0.00423  0.63227  2.42167 \n",
       "\n",
       "Coefficients:\n",
       "                        Estimate Std. Error t value Pr(>|t|)    \n",
       "(Intercept)              0.92926    0.10138   9.166   <2e-16 ***\n",
       "poly(X, 4, raw = TRUE)1  1.60199    0.12323  13.001   <2e-16 ***\n",
       "poly(X, 4, raw = TRUE)2 -1.51659    0.11580 -13.096   <2e-16 ***\n",
       "poly(X, 4, raw = TRUE)3  1.46678    0.03605  40.692   <2e-16 ***\n",
       "poly(X, 4, raw = TRUE)4  0.49929    0.01961  25.463   <2e-16 ***\n",
       "---\n",
       "Signif. codes:  0 '***' 0.001 '**' 0.01 '*' 0.05 '.' 0.1 ' ' 1\n",
       "\n",
       "Residual standard error: 0.983 on 195 degrees of freedom\n",
       "Multiple R-squared:  0.9796,\tAdjusted R-squared:  0.9792 \n",
       "F-statistic:  2344 on 4 and 195 DF,  p-value: < 2.2e-16\n"
      ]
     },
     "metadata": {},
     "output_type": "display_data"
    },
    {
     "data": {
      "text/html": [
       "<table class=\"dataframe\">\n",
       "<caption>A matrix: 4 × 1 of type dbl</caption>\n",
       "<tbody>\n",
       "\t<tr><th scope=row>1st Qu.</th><td>-0.76325594</td></tr>\n",
       "\t<tr><th scope=row>Median</th><td> 0.02234052</td></tr>\n",
       "\t<tr><th scope=row>Mean</th><td>-0.04838606</td></tr>\n",
       "\t<tr><th scope=row>3rd Qu.</th><td> 0.62478847</td></tr>\n",
       "</tbody>\n",
       "</table>\n"
      ],
      "text/latex": [
       "A matrix: 4 × 1 of type dbl\n",
       "\\begin{tabular}{r|l}\n",
       "\t1st Qu. & -0.76325594\\\\\n",
       "\tMedian &  0.02234052\\\\\n",
       "\tMean & -0.04838606\\\\\n",
       "\t3rd Qu. &  0.62478847\\\\\n",
       "\\end{tabular}\n"
      ],
      "text/markdown": [
       "\n",
       "A matrix: 4 × 1 of type dbl\n",
       "\n",
       "| 1st Qu. | -0.76325594 |\n",
       "| Median |  0.02234052 |\n",
       "| Mean | -0.04838606 |\n",
       "| 3rd Qu. |  0.62478847 |\n",
       "\n"
      ],
      "text/plain": [
       "        [,1]       \n",
       "1st Qu. -0.76325594\n",
       "Median   0.02234052\n",
       "Mean    -0.04838606\n",
       "3rd Qu.  0.62478847"
      ]
     },
     "metadata": {},
     "output_type": "display_data"
    },
    {
     "data": {
      "image/png": "[encoded data removed]",
      "text/plain": [
       "plot without title"
      ]
     },
     "metadata": {
      "image/png": {
       "height": 420,
       "width": 420
      }
     },
     "output_type": "display_data"
    }
   ],
   "source": [
    "#generate sample and fit the model\n",
    "sample_data <- DGP(n,beta)\n",
    "head(sample_data,3)\n",
    "lm_sample <- lm(Y~poly(X,4,raw=TRUE),data=sample_data)\n",
    "summary(lm_sample)\n",
    "plot(sample_data$X,sample_data$Y)\n",
    "# 4 reference Points of X:\n",
    "reference_points <-cbind(summary(sample_data$X)[2:5])\n",
    "reference_points\n",
    "abline(v=c(reference_points), lwd=0.5, lty=1, col=\"red\")"
   ]
  },
  {
   "cell_type": "markdown",
   "metadata": {},
   "source": [
    "Our reference points were the 25th and 75th percentile as well as the mean and the median of the initial sample."
   ]
  },
  {
   "cell_type": "markdown",
   "metadata": {},
   "source": [
    "### Excercise 1 a): Calculate Analytical Standard Deviation and Confidence Intervals\n",
    "\n",
    "Based on normality assumptions and sample variance-covariance matrix:\n",
    "\n",
    "- $ \\hat{C}$ = Variance-Covariance Matrix of the estimator $\\hat{ß}$\n",
    "- $l_0 = (1; x_0; x^2_0; x^3_0; x^4_0)$ data vector\n",
    "\n",
    "- $Var[\\hat{f}(x_0)] = l_0^T  \\hat{C}  l_0 $\n",
    "\n",
    "Approximation for the 95%-Confidence Interval: $ \\hat{y}(x_0) ± 2*SE $"
   ]
  },
  {
   "cell_type": "code",
   "execution_count": 18,
   "metadata": {
    "vscode": {
     "languageId": "r"
    }
   },
   "outputs": [
    {
     "data": {
      "text/html": [
       "<style>\n",
       ".dl-inline {width: auto; margin:0; padding: 0}\n",
       ".dl-inline>dt, .dl-inline>dd {float: none; width: auto; display: inline-block}\n",
       ".dl-inline>dt::after {content: \":\\0020\"; padding-right: .5ex}\n",
       ".dl-inline>dt:not(:first-of-type) {padding-left: .5ex}\n",
       "</style><dl class=dl-inline><dt>1st Qu.</dt><dd>-1.65972343675741</dd><dt>Median</dt><dd>0.964308455676186</dd><dt>Mean</dt><dd>0.848031268576335</dd><dt>3rd Qu.</dt><dd>1.77196973035008</dd></dl>\n"
      ],
      "text/latex": [
       "\\begin{description*}\n",
       "\\item[1st Qu.] -1.65972343675741\n",
       "\\item[Median] 0.964308455676186\n",
       "\\item[Mean] 0.848031268576335\n",
       "\\item[3rd Qu.] 1.77196973035008\n",
       "\\end{description*}\n"
      ],
      "text/markdown": [
       "1st Qu.\n",
       ":   -1.65972343675741Median\n",
       ":   0.964308455676186Mean\n",
       ":   0.8480312685763353rd Qu.\n",
       ":   1.77196973035008\n",
       "\n"
      ],
      "text/plain": [
       "   1st Qu.     Median       Mean    3rd Qu. \n",
       "-1.6597234  0.9643085  0.8480313  1.7719697 "
      ]
     },
     "metadata": {},
     "output_type": "display_data"
    },
    {
     "data": {
      "text/html": [
       "<style>\n",
       ".list-inline {list-style: none; margin:0; padding: 0}\n",
       ".list-inline>li {display: inline-block}\n",
       ".list-inline>li:not(:last-child)::after {content: \"\\00b7\"; padding: 0 .5ex}\n",
       "</style>\n",
       "<ol class=list-inline><li>0.107345685150736</li><li>0.100948484270577</li><li>0.102306570363308</li><li>0.103776270177366</li></ol>\n"
      ],
      "text/latex": [
       "\\begin{enumerate*}\n",
       "\\item 0.107345685150736\n",
       "\\item 0.100948484270577\n",
       "\\item 0.102306570363308\n",
       "\\item 0.103776270177366\n",
       "\\end{enumerate*}\n"
      ],
      "text/markdown": [
       "1. 0.107345685150736\n",
       "2. 0.100948484270577\n",
       "3. 0.102306570363308\n",
       "4. 0.103776270177366\n",
       "\n",
       "\n"
      ],
      "text/plain": [
       "[1] 0.1073457 0.1009485 0.1023066 0.1037763"
      ]
     },
     "metadata": {},
     "output_type": "display_data"
    },
    {
     "data": {
      "text/html": [
       "<table class=\"dataframe\">\n",
       "<caption>A data.frame: 4 × 2</caption>\n",
       "<thead>\n",
       "\t<tr><th scope=col>lower_bound</th><th scope=col>upper_bound</th></tr>\n",
       "\t<tr><th scope=col>&lt;dbl&gt;</th><th scope=col>&lt;dbl&gt;</th></tr>\n",
       "</thead>\n",
       "<tbody>\n",
       "\t<tr><td>-1.8744148</td><td>-1.445032</td></tr>\n",
       "\t<tr><td> 0.7624115</td><td> 1.166205</td></tr>\n",
       "\t<tr><td> 0.6434181</td><td> 1.052644</td></tr>\n",
       "\t<tr><td> 1.5644172</td><td> 1.979522</td></tr>\n",
       "</tbody>\n",
       "</table>\n"
      ],
      "text/latex": [
       "A data.frame: 4 × 2\n",
       "\\begin{tabular}{ll}\n",
       " lower\\_bound & upper\\_bound\\\\\n",
       " <dbl> & <dbl>\\\\\n",
       "\\hline\n",
       "\t -1.8744148 & -1.445032\\\\\n",
       "\t  0.7624115 &  1.166205\\\\\n",
       "\t  0.6434181 &  1.052644\\\\\n",
       "\t  1.5644172 &  1.979522\\\\\n",
       "\\end{tabular}\n"
      ],
      "text/markdown": [
       "\n",
       "A data.frame: 4 × 2\n",
       "\n",
       "| lower_bound &lt;dbl&gt; | upper_bound &lt;dbl&gt; |\n",
       "|---|---|\n",
       "| -1.8744148 | -1.445032 |\n",
       "|  0.7624115 |  1.166205 |\n",
       "|  0.6434181 |  1.052644 |\n",
       "|  1.5644172 |  1.979522 |\n",
       "\n"
      ],
      "text/plain": [
       "  lower_bound upper_bound\n",
       "1 -1.8744148  -1.445032  \n",
       "2  0.7624115   1.166205  \n",
       "3  0.6434181   1.052644  \n",
       "4  1.5644172   1.979522  "
      ]
     },
     "metadata": {},
     "output_type": "display_data"
    },
    {
     "name": "stderr",
     "output_type": "stream",
     "text": [
      "Warning message:\n",
      "\"Ignoring unknown parameters: method, formula\"\n"
     ]
    },
    {
     "data": {
      "image/png": "[encoded data removed]",
      "text/plain": [
       "plot without title"
      ]
     },
     "metadata": {
      "image/png": {
       "height": 420,
       "width": 420
      }
     },
     "output_type": "display_data"
    }
   ],
   "source": [
    "# Function to retrieve pointwise Standard Error\n",
    "Pointwise_SE <- function(x0,lmobj){\n",
    "  C_hat <- vcov(l\n",
    "                m_obj)\n",
    "  l_zero <- c(1,x0,x0^2,x0^3,x0^4)\n",
    "  pointvar <- t(l_zero)%*%C_hat%*%l_zero\n",
    "  return( sqrt(pointvar))\n",
    "}\n",
    "# predict y hat for all 4 reference points\n",
    "y_hat_sample <- predict(lm_sample,newdata= data.frame(\"X\"=reference_points[,1]))\n",
    "y_hat_sample\n",
    "\n",
    "SE_analytical <- rep(NA,4) # container for SE\n",
    "CI_analytical <- data.frame(\"lower_bound\"=rep(NA,4),\"upper_bound\"=rep(NA,4)) # container for CI approx\n",
    "\n",
    "for (i in 1:4){\n",
    "  SE <- Pointwise_SE(x0=reference_points[i],lmobj = lm_sample)\n",
    "  SE_analytical[i] <- SE\n",
    "  CI_analytical[i,] <- cbind(y_hat_sample[i]-2*SE,y_hat_sample[i]+2*SE)\n",
    "}\n",
    "\n",
    "SE_analytical\n",
    "CI_analytical\n",
    "qplot(X, Y, data=sample_data, geom=c(\"point\", \"smooth\"), method=\"lm\", formula= y ~ poly(x, 4), main = \"Polynomial fit\")"
   ]
  },
  {
   "cell_type": "markdown",
   "metadata": {},
   "source": [
    "### Excercise 1 b): Calculate bootstrapped Confidence Intervals using the naive bootstrap quantiles"
   ]
  },
  {
   "cell_type": "code",
   "execution_count": 9,
   "metadata": {
    "vscode": {
     "languageId": "r"
    }
   },
   "outputs": [
    {
     "data": {
      "image/png": "[encoded data removed]",
      "text/plain": [
       "Plot with title \"Histogram of t\""
      ]
     },
     "metadata": {
      "image/png": {
       "height": 420,
       "width": 420
      }
     },
     "output_type": "display_data"
    },
    {
     "data": {
      "image/png": "[encoded data removed]",
      "text/plain": [
       "Plot with title \"Histogram of t\""
      ]
     },
     "metadata": {
      "image/png": {
       "height": 420,
       "width": 420
      }
     },
     "output_type": "display_data"
    },
    {
     "data": {
      "image/png": "[encoded data removed]",
      "text/plain": [
       "Plot with title \"Histogram of t\""
      ]
     },
     "metadata": {
      "image/png": {
       "height": 420,
       "width": 420
      }
     },
     "output_type": "display_data"
    },
    {
     "data": {
      "image/png": "[encoded data removed]",
      "text/plain": [
       "Plot with title \"Histogram of t\""
      ]
     },
     "metadata": {
      "image/png": {
       "height": 420,
       "width": 420
      }
     },
     "output_type": "display_data"
    }
   ],
   "source": [
    "## Get Confidence Intervals and their coverage percentage(what we thought was wanted here) for all 4 reference points\n",
    "set.seed(8)\n",
    "Bootstrapped_CI_naive <- data.frame(\"2.5\"=rep(NA,4),\"97.5\"=rep(NA,4)) # container for confidence intervals\n",
    "Coverage_percentage <- rep(NA,4) \n",
    "\n",
    "for ( i in 1:4){\n",
    "Getyhat <-function(data,indices){#specify bootstrap function\n",
    "  d <- data[indices,]\n",
    "  lm_object <- lm(Y~poly(X,4,raw=TRUE),data=d)\n",
    "  y_hat_boot <- predict(lm_object,newdata= data.frame(\"X\"=reference_points[i]))\n",
    "  return(y_hat_boot)\n",
    "}\n",
    "\n",
    "yhat_boot <- boot(data=sample_data,statistic=Getyhat,R=200) #save bootstrap object\n",
    "Naive_CI <- quantile(yhat_boot$t,c(0.025,0.975)) # construct naive bootstrap CI using quantiles\n",
    "Inside <- Naive_CI[1] <= yhat_boot$t & yhat_boot$t <= Naive_CI[2] # COVERAGE PERCENTAGE\n",
    "Coverage_percentage[i] <- length((Inside[Inside==TRUE]))/200\n",
    "Bootstrapped_CI_naive[i,] <- Naive_CI #store them\n",
    "plot(yhat_boot)\n",
    "}"
   ]
  },
  {
   "cell_type": "markdown",
   "metadata": {},
   "source": [
    "#### Naive Bootstrap quantiles.\n",
    "\n",
    "To construct the bootstrapped Confidence Intervals we simply use the quantiles of the bootstrap distribution of the estimator $ \\hat y(x_0)$ e.g. we use the middle 95% of the bootstrap estimates to form a 95% confidence interval"
   ]
  },
  {
   "cell_type": "code",
   "execution_count": 114,
   "metadata": {
    "vscode": {
     "languageId": "r"
    }
   },
   "outputs": [
    {
     "data": {
      "text/html": [
       "<table class=\"dataframe\">\n",
       "<caption>A data.frame: 4 × 2</caption>\n",
       "<thead>\n",
       "\t<tr><th scope=col>X2.5</th><th scope=col>X97.5</th></tr>\n",
       "\t<tr><th scope=col>&lt;dbl&gt;</th><th scope=col>&lt;dbl&gt;</th></tr>\n",
       "</thead>\n",
       "<tbody>\n",
       "\t<tr><td>-1.8623927</td><td>-1.465833</td></tr>\n",
       "\t<tr><td> 0.7634364</td><td> 1.129915</td></tr>\n",
       "\t<tr><td> 0.6945124</td><td> 1.057649</td></tr>\n",
       "\t<tr><td> 1.5659960</td><td> 1.981257</td></tr>\n",
       "</tbody>\n",
       "</table>\n"
      ],
      "text/latex": [
       "A data.frame: 4 × 2\n",
       "\\begin{tabular}{ll}\n",
       " X2.5 & X97.5\\\\\n",
       " <dbl> & <dbl>\\\\\n",
       "\\hline\n",
       "\t -1.8623927 & -1.465833\\\\\n",
       "\t  0.7634364 &  1.129915\\\\\n",
       "\t  0.6945124 &  1.057649\\\\\n",
       "\t  1.5659960 &  1.981257\\\\\n",
       "\\end{tabular}\n"
      ],
      "text/markdown": [
       "\n",
       "A data.frame: 4 × 2\n",
       "\n",
       "| X2.5 &lt;dbl&gt; | X97.5 &lt;dbl&gt; |\n",
       "|---|---|\n",
       "| -1.8623927 | -1.465833 |\n",
       "|  0.7634364 |  1.129915 |\n",
       "|  0.6945124 |  1.057649 |\n",
       "|  1.5659960 |  1.981257 |\n",
       "\n"
      ],
      "text/plain": [
       "  X2.5       X97.5    \n",
       "1 -1.8623927 -1.465833\n",
       "2  0.7634364  1.129915\n",
       "3  0.6945124  1.057649\n",
       "4  1.5659960  1.981257"
      ]
     },
     "metadata": {},
     "output_type": "display_data"
    }
   ],
   "source": [
    "Bootstrapped_CI_naive"
   ]
  },
  {
   "cell_type": "markdown",
   "metadata": {},
   "source": [
    "### Excercise 1 c): Calculate the Interval Length at four different values of X"
   ]
  },
  {
   "cell_type": "code",
   "execution_count": 91,
   "metadata": {
    "vscode": {
     "languageId": "r"
    }
   },
   "outputs": [],
   "source": [
    "length_BT <- abs(abs(Bootstrapped_CI_naive[,1])-abs(Bootstrapped_CI_naive[,2]))\n",
    "length_AN <- abs(abs(CI_analytical[,1])-abs(CI_analytical[,2]))"
   ]
  },
  {
   "cell_type": "code",
   "execution_count": 92,
   "metadata": {
    "vscode": {
     "languageId": "r"
    }
   },
   "outputs": [
    {
     "data": {
      "text/html": [
       "<style>\n",
       ".list-inline {list-style: none; margin:0; padding: 0}\n",
       ".list-inline>li {display: inline-block}\n",
       ".list-inline>li:not(:last-child)::after {content: \"\\00b7\"; padding: 0 .5ex}\n",
       "</style>\n",
       "<ol class=list-inline><li>0.3965600252705</li><li>0.36647879851887</li><li>0.363136743989152</li><li>0.415261132666395</li></ol>\n"
      ],
      "text/latex": [
       "\\begin{enumerate*}\n",
       "\\item 0.3965600252705\n",
       "\\item 0.36647879851887\n",
       "\\item 0.363136743989152\n",
       "\\item 0.415261132666395\n",
       "\\end{enumerate*}\n"
      ],
      "text/markdown": [
       "1. 0.3965600252705\n",
       "2. 0.36647879851887\n",
       "3. 0.363136743989152\n",
       "4. 0.415261132666395\n",
       "\n",
       "\n"
      ],
      "text/plain": [
       "[1] 0.3965600 0.3664788 0.3631367 0.4152611"
      ]
     },
     "metadata": {},
     "output_type": "display_data"
    }
   ],
   "source": [
    "length_BT"
   ]
  },
  {
   "cell_type": "code",
   "execution_count": 93,
   "metadata": {
    "vscode": {
     "languageId": "r"
    }
   },
   "outputs": [
    {
     "data": {
      "text/html": [
       "<style>\n",
       ".list-inline {list-style: none; margin:0; padding: 0}\n",
       ".list-inline>li {display: inline-block}\n",
       ".list-inline>li:not(:last-child)::after {content: \"\\00b7\"; padding: 0 .5ex}\n",
       "</style>\n",
       "<ol class=list-inline><li>0.429382740602946</li><li>0.40379393708231</li><li>0.40922628145323</li><li>0.415105080709464</li></ol>\n"
      ],
      "text/latex": [
       "\\begin{enumerate*}\n",
       "\\item 0.429382740602946\n",
       "\\item 0.40379393708231\n",
       "\\item 0.40922628145323\n",
       "\\item 0.415105080709464\n",
       "\\end{enumerate*}\n"
      ],
      "text/markdown": [
       "1. 0.429382740602946\n",
       "2. 0.40379393708231\n",
       "3. 0.40922628145323\n",
       "4. 0.415105080709464\n",
       "\n",
       "\n"
      ],
      "text/plain": [
       "[1] 0.4293827 0.4037939 0.4092263 0.4151051"
      ]
     },
     "metadata": {},
     "output_type": "display_data"
    }
   ],
   "source": [
    "length_AN"
   ]
  },
  {
   "cell_type": "markdown",
   "metadata": {},
   "source": [
    "We can see that the Bootstrapped CIs are slightly smaller in terms of interval length for $x_0 = (25th percentile,Mean,Median)$ while being minimally larger for $x_0 = (75th percentile)$\n",
    "\n",
    "Intervals which correspond to the tails of the distribution (25% , 75% ) are larger than those in the middle of the distribution (mean, median).\n",
    "\n",
    "When interpreting the Coverage Probability as the proportion of times the Bootstrapped Confidence Interval contains the $\\hat y$  from different bootstrap runs the Coverage percentage is 95% for all 4 reference points -> would be surprising to see something else since we constructed the CIs with the 95% quantiles of the bootstrap distribution of the estimators. -> more interesting to see how CIs behave when resampling from the Data Generating Process in a simulation."
   ]
  },
  {
   "cell_type": "markdown",
   "metadata": {},
   "source": [
    "### Excercise 1 d) Calculate the coverage probabilities at 4 different values of X"
   ]
  },
  {
   "cell_type": "code",
   "execution_count": 101,
   "metadata": {
    "vscode": {
     "languageId": "r"
    }
   },
   "outputs": [
    {
     "data": {
      "text/html": [
       "<style>\n",
       ".list-inline {list-style: none; margin:0; padding: 0}\n",
       ".list-inline>li {display: inline-block}\n",
       ".list-inline>li:not(:last-child)::after {content: \"\\00b7\"; padding: 0 .5ex}\n",
       "</style>\n",
       "<ol class=list-inline><li>0.95</li><li>0.95</li><li>0.95</li><li>0.95</li></ol>\n"
      ],
      "text/latex": [
       "\\begin{enumerate*}\n",
       "\\item 0.95\n",
       "\\item 0.95\n",
       "\\item 0.95\n",
       "\\item 0.95\n",
       "\\end{enumerate*}\n"
      ],
      "text/markdown": [
       "1. 0.95\n",
       "2. 0.95\n",
       "3. 0.95\n",
       "4. 0.95\n",
       "\n",
       "\n"
      ],
      "text/plain": [
       "[1] 0.95 0.95 0.95 0.95"
      ]
     },
     "metadata": {},
     "output_type": "display_data"
    }
   ],
   "source": [
    "Coverage_percentage"
   ]
  },
  {
   "cell_type": "markdown",
   "metadata": {},
   "source": [
    "## Excercise 2 Simulation Study\n",
    "\n",
    "### Overview:\n",
    "\n",
    "1. Generate 100 Samples from our Data Generating Process\n",
    "2. For each of those samples fit the model and calculate the analytical confidence interval for our estimator  $\\hat{y}(x_0)$\n",
    "3. For each sample calculate the naive bootstrap confidence interval for  $\\hat{y}(x_0)$\n",
    "4. Compare how often our realizations of both types of confidence intervals contain the true value $y(x_0)$ (Coverage Probability)\n",
    "5. Compare the average interval length\n",
    "\n",
    "6. Repeat step $1$-$5$ for different Data Generating Processes"
   ]
  },
  {
   "cell_type": "code",
   "execution_count": 10,
   "metadata": {
    "vscode": {
     "languageId": "r"
    }
   },
   "outputs": [
    {
     "data": {
      "text/html": [
       "<table class=\"dataframe\">\n",
       "<caption>A data.frame: 5 × 2</caption>\n",
       "<thead>\n",
       "\t<tr><th></th><th scope=col>X2.5</th><th scope=col>X97.5</th></tr>\n",
       "\t<tr><th></th><th scope=col>&lt;dbl&gt;</th><th scope=col>&lt;dbl&gt;</th></tr>\n",
       "</thead>\n",
       "<tbody>\n",
       "\t<tr><th scope=row>1</th><td>0.6536675</td><td>1.039187</td></tr>\n",
       "\t<tr><th scope=row>2</th><td>0.7422022</td><td>1.098198</td></tr>\n",
       "\t<tr><th scope=row>3</th><td>0.8174276</td><td>1.251987</td></tr>\n",
       "\t<tr><th scope=row>4</th><td>0.7618790</td><td>1.138038</td></tr>\n",
       "\t<tr><th scope=row>5</th><td>0.8523919</td><td>1.218514</td></tr>\n",
       "</tbody>\n",
       "</table>\n"
      ],
      "text/latex": [
       "A data.frame: 5 × 2\n",
       "\\begin{tabular}{r|ll}\n",
       "  & X2.5 & X97.5\\\\\n",
       "  & <dbl> & <dbl>\\\\\n",
       "\\hline\n",
       "\t1 & 0.6536675 & 1.039187\\\\\n",
       "\t2 & 0.7422022 & 1.098198\\\\\n",
       "\t3 & 0.8174276 & 1.251987\\\\\n",
       "\t4 & 0.7618790 & 1.138038\\\\\n",
       "\t5 & 0.8523919 & 1.218514\\\\\n",
       "\\end{tabular}\n"
      ],
      "text/markdown": [
       "\n",
       "A data.frame: 5 × 2\n",
       "\n",
       "| <!--/--> | X2.5 &lt;dbl&gt; | X97.5 &lt;dbl&gt; |\n",
       "|---|---|---|\n",
       "| 1 | 0.6536675 | 1.039187 |\n",
       "| 2 | 0.7422022 | 1.098198 |\n",
       "| 3 | 0.8174276 | 1.251987 |\n",
       "| 4 | 0.7618790 | 1.138038 |\n",
       "| 5 | 0.8523919 | 1.218514 |\n",
       "\n"
      ],
      "text/plain": [
       "  X2.5      X97.5   \n",
       "1 0.6536675 1.039187\n",
       "2 0.7422022 1.098198\n",
       "3 0.8174276 1.251987\n",
       "4 0.7618790 1.138038\n",
       "5 0.8523919 1.218514"
      ]
     },
     "metadata": {},
     "output_type": "display_data"
    },
    {
     "data": {
      "text/html": [
       "<table class=\"dataframe\">\n",
       "<caption>A data.frame: 5 × 2</caption>\n",
       "<thead>\n",
       "\t<tr><th></th><th scope=col>X2.5</th><th scope=col>X97.5</th></tr>\n",
       "\t<tr><th></th><th scope=col>&lt;dbl&gt;</th><th scope=col>&lt;dbl&gt;</th></tr>\n",
       "</thead>\n",
       "<tbody>\n",
       "\t<tr><th scope=row>1</th><td>0.6434181</td><td>1.052644</td></tr>\n",
       "\t<tr><th scope=row>2</th><td>0.7322583</td><td>1.118603</td></tr>\n",
       "\t<tr><th scope=row>3</th><td>0.8147074</td><td>1.239511</td></tr>\n",
       "\t<tr><th scope=row>4</th><td>0.7728788</td><td>1.139879</td></tr>\n",
       "\t<tr><th scope=row>5</th><td>0.8409550</td><td>1.233234</td></tr>\n",
       "</tbody>\n",
       "</table>\n"
      ],
      "text/latex": [
       "A data.frame: 5 × 2\n",
       "\\begin{tabular}{r|ll}\n",
       "  & X2.5 & X97.5\\\\\n",
       "  & <dbl> & <dbl>\\\\\n",
       "\\hline\n",
       "\t1 & 0.6434181 & 1.052644\\\\\n",
       "\t2 & 0.7322583 & 1.118603\\\\\n",
       "\t3 & 0.8147074 & 1.239511\\\\\n",
       "\t4 & 0.7728788 & 1.139879\\\\\n",
       "\t5 & 0.8409550 & 1.233234\\\\\n",
       "\\end{tabular}\n"
      ],
      "text/markdown": [
       "\n",
       "A data.frame: 5 × 2\n",
       "\n",
       "| <!--/--> | X2.5 &lt;dbl&gt; | X97.5 &lt;dbl&gt; |\n",
       "|---|---|---|\n",
       "| 1 | 0.6434181 | 1.052644 |\n",
       "| 2 | 0.7322583 | 1.118603 |\n",
       "| 3 | 0.8147074 | 1.239511 |\n",
       "| 4 | 0.7728788 | 1.139879 |\n",
       "| 5 | 0.8409550 | 1.233234 |\n",
       "\n"
      ],
      "text/plain": [
       "  X2.5      X97.5   \n",
       "1 0.6434181 1.052644\n",
       "2 0.7322583 1.118603\n",
       "3 0.8147074 1.239511\n",
       "4 0.7728788 1.139879\n",
       "5 0.8409550 1.233234"
      ]
     },
     "metadata": {},
     "output_type": "display_data"
    }
   ],
   "source": [
    "set.seed(8)\n",
    "rep <- 100\n",
    "Analytical_CI_sim <- data.frame(\"2.5\"=rep(NA,100),\"97.5\"=rep(NA,100))\n",
    "Boot_CI_sim <- data.frame(\"2.5\"=rep(NA,100),\"97.5\"=rep(NA,100))\n",
    "  \n",
    "# This might run a while\n",
    "for (i in 1:rep){\n",
    "  # DGP and new fits\n",
    "  sample_data <- DGP(n,beta)\n",
    "  lm_sample <- lm(Y~poly(X,4,raw=TRUE),data=sample_data)\n",
    "  #Analytical CI\n",
    "  y_hat_sample <- predict(lm_sample,newdata= data.frame(\"X\"=reference_points[3]))\n",
    "  SE <- Pointwise_SE(x0=reference_points[3],lmobj = lm_sample)\n",
    "  CI_analytical<- cbind(y_hat_sample-2*SE,y_hat_sample+2*SE)\n",
    "  Analytical_CI_sim[i,] <- CI_analytical\n",
    "  ## Bootstrap CI\n",
    "  Getyhat <-function(data,indices){\n",
    "    d <- data[indices,]\n",
    "    lm_object <- lm(Y~poly(X,4,raw=TRUE),data=d)\n",
    "    y_hat_boot <- predict(lm_object,newdata= data.frame(\"X\"=reference_points[3]))\n",
    "    return(y_hat_boot)\n",
    "  }\n",
    "  \n",
    "  yhat_boot <- boot(data=sample_data,statistic=Getyhat,R=200) #save bootstrap object\n",
    "  Naive_CI_mean <- quantile(yhat_boot$t,c(0.025,0.975)) #construct CI\n",
    "  Boot_CI_sim[i,] <- Naive_CI_mean\n",
    "}\n",
    "\n",
    "  \n",
    "head(Boot_CI_sim,5)\n",
    "head(Analytical_CI_sim,5)"
   ]
  },
  {
   "cell_type": "markdown",
   "metadata": {},
   "source": [
    "###### Interval Length\n",
    "- we can see the average length of the bootstrapped confidence intervals is slightly smaller"
   ]
  },
  {
   "cell_type": "code",
   "execution_count": 98,
   "metadata": {
    "scrolled": true,
    "vscode": {
     "languageId": "r"
    }
   },
   "outputs": [
    {
     "data": {
      "text/html": [
       "0.402089023647737"
      ],
      "text/latex": [
       "0.402089023647737"
      ],
      "text/markdown": [
       "0.402089023647737"
      ],
      "text/plain": [
       "[1] 0.402089"
      ]
     },
     "metadata": {},
     "output_type": "display_data"
    },
    {
     "data": {
      "text/html": [
       "0.385971974167819"
      ],
      "text/latex": [
       "0.385971974167819"
      ],
      "text/markdown": [
       "0.385971974167819"
      ],
      "text/plain": [
       "[1] 0.385972"
      ]
     },
     "metadata": {},
     "output_type": "display_data"
    }
   ],
   "source": [
    "length_AN_sim <- mean(abs(abs(Analytical_CI_sim[,1])-abs(Analytical_CI_sim[,2])))\n",
    "length_AN_sim\n",
    "\n",
    "length_BT_sim <- mean(abs(abs(Boot_CI_sim[,1])-abs(Boot_CI_sim[,2]))) # there is a built in function for that 100% but couldnt find\n",
    "length_BT_sim"
   ]
  },
  {
   "cell_type": "markdown",
   "metadata": {},
   "source": [
    "##### Coverage Probability"
   ]
  },
  {
   "cell_type": "code",
   "execution_count": 99,
   "metadata": {
    "scrolled": true,
    "vscode": {
     "languageId": "r"
    }
   },
   "outputs": [
    {
     "data": {
      "text/html": [
       "0.96"
      ],
      "text/latex": [
       "0.96"
      ],
      "text/markdown": [
       "0.96"
      ],
      "text/plain": [
       "[1] 0.96"
      ]
     },
     "metadata": {},
     "output_type": "display_data"
    },
    {
     "data": {
      "text/html": [
       "0.92"
      ],
      "text/latex": [
       "0.92"
      ],
      "text/markdown": [
       "0.92"
      ],
      "text/plain": [
       "[1] 0.92"
      ]
     },
     "metadata": {},
     "output_type": "display_data"
    }
   ],
   "source": [
    "x0 <- reference_points[3] # reference point for the prediction\n",
    "true_y <- beta%*%c(1,x0,x0^2,x0^3,x0^4)\n",
    "## COVERAGE PROBABILITY ANALYTICAL\n",
    "Inside_CI_analytical <- cbind(Analytical_CI_sim$X2.5 <= rep(true_y,100) & rep(true_y,100) <= Analytical_CI_sim$X97.5) # if outside then 0\n",
    "round(length(Inside_CI_analytical[Inside_CI_analytical == TRUE])/100,4)## 96% for analytical approach !!\n",
    "## COVERAGE PROBABILITY BOOTSTRAP\n",
    "Inside_CI_Boot <- cbind(Boot_CI_sim$X2.5 <= rep(true_y,100) & rep(true_y,100) <= Boot_CI_sim$X97.5) # if outside then 0\n",
    "round(length(Inside_CI_Boot[Inside_CI_Boot == TRUE])/100,4)  ## 92% for bootstrap approach !!"
   ]
  },
  {
   "cell_type": "code",
   "execution_count": 104,
   "metadata": {
    "vscode": {
     "languageId": "r"
    }
   },
   "outputs": [
    {
     "data": {
      "image/png": "[encoded data removed]",
      "text/plain": [
       "Plot with title \"Analytical Confidence Intervals\""
      ]
     },
     "metadata": {
      "image/png": {
       "height": 420,
       "width": 420
      }
     },
     "output_type": "display_data"
    },
    {
     "data": {
      "image/png": "[encoded data removed]",
      "text/plain": [
       "Plot with title \"Bootstrap Confidence Intervals\""
      ]
     },
     "metadata": {
      "image/png": {
       "height": 420,
       "width": 420
      }
     },
     "output_type": "display_data"
    }
   ],
   "source": [
    "#Plot Analytical Confidence Intervals\n",
    "nCIs <- 100\n",
    "plot(x=0,y=0,type=\"n\",xlim=c(0,nCIs),ylim= c(0.35,1.65),\n",
    "                  ylab=\"\", xlab=\"Resamplings\", main=\"Analytical Confidence Intervals\")\n",
    "for(r in 1:nCIs){\n",
    "  if(Inside_CI_analytical[r]==TRUE){\n",
    "    lines(x=c(r,r), y=c(Analytical_CI_sim[r,1],Analytical_CI_sim[r,2]),\n",
    "          lwd=2, col=\"aquamarine 2\")\n",
    "  }else{\n",
    "    lines(x=c(r,r),y=c(Analytical_CI_sim[r,1],Analytical_CI_sim[r,2]),\n",
    "          lwd=2, col=\"darkred\")\n",
    "  }\n",
    "}\n",
    "axis(4, at=true_y, labels = \"true y\")\n",
    "abline(h=true_y)\n",
    "\n",
    "#Plot Boot:\n",
    "plot(x=0,y=0,type=\"n\",xlim=c(0,nCIs),ylim= c(0.35,1.65),\n",
    "     ylab=\"\", xlab=\"Resamplings\", main=\"Bootstrap Confidence Intervals\")\n",
    "for(r in 1:nCIs){\n",
    "  if(Inside_CI_Boot[r]==TRUE){\n",
    "    lines(x=c(r,r), y=c(Boot_CI_sim[r,1],Boot_CI_sim[r,2]),\n",
    "          lwd=2, col=\"aquamarine 2\")\n",
    "  }else{\n",
    "    lines(x=c(r,r),y=c(Boot_CI_sim[r,1],Boot_CI_sim[r,2]),\n",
    "          lwd=2, col=\"darkred\")\n",
    "  }\n",
    "}\n",
    "axis(4, at=true_y, labels = \"true y\")\n",
    "abline(h=true_y)"
   ]
  },
  {
   "cell_type": "markdown",
   "metadata": {},
   "source": [
    "#### Results: \n",
    "- In 200 realizations of the confidence intervals for the point predictions $\\hat y(x_0)$ using the analytical approach, 4 did not contain the true y at that point. Coverage Probability: 96%\n",
    "- In 200 realizations of the confidence intervals for $\\hat y(x_0)$ using the bootstrap approach, 8 did not contain the true y. Coverage Probability: 92 % "
   ]
  }
 ],
 "metadata": {
  "kernelspec": {
   "display_name": "R",
   "language": "R",
   "name": "ir"
  },
  "language_info": {
   "codemirror_mode": "r",
   "file_extension": ".r",
   "mimetype": "text/x-r-source",
   "name": "R",
   "pygments_lexer": "r",
   "version": "4.0.3"
  }
 },
 "nbformat": 4,
 "nbformat_minor": 4
}
